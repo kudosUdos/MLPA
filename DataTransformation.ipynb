{
 "cells": [
  {
   "cell_type": "markdown",
   "id": "0cd53e6e-b30d-4199-8135-a61233442f1d",
   "metadata": {},
   "source": [
    "# Data Transformation "
   ]
  },
  {
   "cell_type": "code",
   "execution_count": 1,
   "id": "5a6e3389-b30c-447d-97c7-1cba812e51cb",
   "metadata": {},
   "outputs": [],
   "source": [
    "#Importing necessary libraries\n",
    "\n",
    "import numpy as np\n",
    "import pandas as pd\n",
    "import matplotlib.pyplot as plt\n",
    "import seaborn as sns"
   ]
  },
  {
   "cell_type": "code",
   "execution_count": 2,
   "id": "db48f818-edd4-4186-8bb3-fffa2e85ff55",
   "metadata": {},
   "outputs": [],
   "source": [
    "#Load the dataset\n",
    "\n",
    "df=pd.read_csv(r\"IRIS.csv\")"
   ]
  },
  {
   "cell_type": "code",
   "execution_count": 5,
   "id": "ab122dbf-65fb-49e2-bdae-27cc7e2f72b8",
   "metadata": {},
   "outputs": [
    {
     "name": "stdout",
     "output_type": "stream",
     "text": [
      "<class 'pandas.core.frame.DataFrame'>\n",
      "RangeIndex: 150 entries, 0 to 149\n",
      "Data columns (total 6 columns):\n",
      " #   Column         Non-Null Count  Dtype  \n",
      "---  ------         --------------  -----  \n",
      " 0   Id             150 non-null    int64  \n",
      " 1   SepalLengthCm  150 non-null    float64\n",
      " 2   SepalWidthCm   150 non-null    float64\n",
      " 3   PetalLengthCm  150 non-null    float64\n",
      " 4   PetalWidthCm   150 non-null    float64\n",
      " 5   Species        150 non-null    object \n",
      "dtypes: float64(4), int64(1), object(1)\n",
      "memory usage: 7.2+ KB\n"
     ]
    }
   ],
   "source": [
    "#Initial data exploration\n",
    "\n",
    "df.head(10)\n",
    "df.info()"
   ]
  },
  {
   "cell_type": "code",
   "execution_count": 6,
   "id": "72a71b0f-c58a-4f87-ba28-b903e11d5076",
   "metadata": {},
   "outputs": [
    {
     "name": "stdout",
     "output_type": "stream",
     "text": [
      "         Id  SepalLengthCm  SepalWidthCm  PetalLengthCm  PetalWidthCm\n",
      "0  0.000000       0.222222      0.625000       0.067797      0.041667\n",
      "1  0.006711       0.166667      0.416667       0.067797      0.041667\n",
      "2  0.013423       0.111111      0.500000       0.050847      0.041667\n",
      "3  0.020134       0.083333      0.458333       0.084746      0.041667\n",
      "4  0.026846       0.194444      0.666667       0.067797      0.041667\n"
     ]
    }
   ],
   "source": [
    "#Normalization Technique\n",
    "\n",
    "from sklearn.preprocessing import MinMaxScaler\n",
    "numeric_cols=df.select_dtypes(include=['int64','float64']).columns\n",
    "scaler=MinMaxScaler()\n",
    "df_normalized=df.copy()\n",
    "df_normalized[numeric_cols]=scaler.fit_transform(df[numeric_cols])\n",
    "print(df_normalized[numeric_cols].head())"
   ]
  },
  {
   "cell_type": "code",
   "execution_count": 8,
   "id": "89e1bbae-c06e-43de-83a9-7f7e3bddca95",
   "metadata": {},
   "outputs": [
    {
     "name": "stdout",
     "output_type": "stream",
     "text": [
      "         Id  SepalLengthCm  SepalWidthCm  PetalLengthCm  PetalWidthCm\n",
      "0 -1.000000      -0.538462           1.0      -0.842857     -0.733333\n",
      "1 -0.986577      -0.692308           0.0      -0.842857     -0.733333\n",
      "2 -0.973154      -0.846154           0.4      -0.871429     -0.733333\n",
      "3 -0.959732      -0.923077           0.2      -0.814286     -0.733333\n",
      "4 -0.946309      -0.615385           1.2      -0.842857     -0.733333\n"
     ]
    }
   ],
   "source": [
    "#Scaling Technique\n",
    "\n",
    "from sklearn.preprocessing import RobustScaler\n",
    "numeric_cols=df.select_dtypes(include=['int64','float64']).columns\n",
    "scaler=RobustScaler()\n",
    "df_scaled=df.copy()\n",
    "df_scaled[numeric_cols]=scaler.fit_transform(df[numeric_cols])\n",
    "print(df_scaled[numeric_cols].head())"
   ]
  },
  {
   "cell_type": "code",
   "execution_count": 9,
   "id": "1533d655-79d1-488b-9e07-443ae25c8ddd",
   "metadata": {},
   "outputs": [
    {
     "name": "stdout",
     "output_type": "stream",
     "text": [
      "         Id  SepalLengthCm  SepalWidthCm  PetalLengthCm  PetalWidthCm\n",
      "0 -1.720542      -0.900681      1.032057      -1.341272     -1.312977\n",
      "1 -1.697448      -1.143017     -0.124958      -1.341272     -1.312977\n",
      "2 -1.674353      -1.385353      0.337848      -1.398138     -1.312977\n",
      "3 -1.651258      -1.506521      0.106445      -1.284407     -1.312977\n",
      "4 -1.628164      -1.021849      1.263460      -1.341272     -1.312977\n"
     ]
    }
   ],
   "source": [
    "#Standarization technique\n",
    "\n",
    "from sklearn.preprocessing import StandardScaler\n",
    "numeric_cols=df.select_dtypes(include=['int64','float64']).columns\n",
    "scaler=StandardScaler()\n",
    "df_standardized=df.copy()\n",
    "df_standardized[numeric_cols]=scaler.fit_transform(df[numeric_cols])\n",
    "print(df_standardized[numeric_cols].head())"
   ]
  }
 ],
 "metadata": {
  "kernelspec": {
   "display_name": "Python [conda env:base] *",
   "language": "python",
   "name": "conda-base-py"
  },
  "language_info": {
   "codemirror_mode": {
    "name": "ipython",
    "version": 3
   },
   "file_extension": ".py",
   "mimetype": "text/x-python",
   "name": "python",
   "nbconvert_exporter": "python",
   "pygments_lexer": "ipython3",
   "version": "3.12.7"
  }
 },
 "nbformat": 4,
 "nbformat_minor": 5
}
