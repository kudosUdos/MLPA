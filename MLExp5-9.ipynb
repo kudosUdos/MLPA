{
 "cells": [
  {
   "cell_type": "markdown",
   "id": "69c4e5d4-e47c-46ea-9f8e-731656102da7",
   "metadata": {},
   "source": [
    "# Exp-5: Simple Linear Regression(SLR)"
   ]
  },
  {
   "cell_type": "code",
   "execution_count": 4,
   "id": "e6a950f4-ec29-48fc-a3b1-53e3601dfff0",
   "metadata": {},
   "outputs": [
    {
     "data": {
      "image/png": "[encoded data removed]",
      "text/plain": [
       "<Figure size 640x480 with 1 Axes>"
      ]
     },
     "metadata": {},
     "output_type": "display_data"
    }
   ],
   "source": [
    "import matplotlib.pyplot as plt\n",
    "\n",
    "x = [1,2,3,4,5,6,7,8,9]\n",
    "y = [4,7,1,2,4,5,7,8,5]\n",
    "\n",
    "def slr(x):\n",
    "    return slope * x + intercept\n",
    "\n",
    "from scipy import stats\n",
    "slope, intercept, r, p, std_err = stats.linregress(x,y)\n",
    "\n",
    "model = list(map(slr, x))\n",
    "plt.plot(x, model)\n",
    "\n",
    "plt.scatter(x,y)\n",
    "plt.show()"
   ]
  },
  {
   "cell_type": "markdown",
   "id": "7f0d0490-2393-4563-a8b0-59bf0c7b01ab",
   "metadata": {},
   "source": [
    "# Exp-6: Multiple Linear regression"
   ]
  },
  {
   "cell_type": "code",
   "execution_count": 7,
   "id": "04dd5de7-0147-424b-9353-dd746e335ce0",
   "metadata": {},
   "outputs": [
    {
     "name": "stdout",
     "output_type": "stream",
     "text": [
      "      Id  SepalLengthCm  SepalWidthCm  PetalLengthCm  PetalWidthCm  \\\n",
      "0      1            5.1           3.5            1.4           0.2   \n",
      "1      2            4.9           3.0            1.4           0.2   \n",
      "2      3            4.7           3.2            1.3           0.2   \n",
      "3      4            4.6           3.1            1.5           0.2   \n",
      "4      5            5.0           3.6            1.4           0.2   \n",
      "..   ...            ...           ...            ...           ...   \n",
      "145  146            6.7           3.0            5.2           2.3   \n",
      "146  147            6.3           2.5            5.0           1.9   \n",
      "147  148            6.5           3.0            5.2           2.0   \n",
      "148  149            6.2           3.4            5.4           2.3   \n",
      "149  150            5.9           3.0            5.1           1.8   \n",
      "\n",
      "            Species  \n",
      "0       Iris-setosa  \n",
      "1       Iris-setosa  \n",
      "2       Iris-setosa  \n",
      "3       Iris-setosa  \n",
      "4       Iris-setosa  \n",
      "..              ...  \n",
      "145  Iris-virginica  \n",
      "146  Iris-virginica  \n",
      "147  Iris-virginica  \n",
      "148  Iris-virginica  \n",
      "149  Iris-virginica  \n",
      "\n",
      "[150 rows x 6 columns]\n",
      "[3.43810997 2.62244571 4.91517058 4.74080772 6.53053895 5.16164366\n",
      " 3.67453557 1.93504173 5.29995142 1.61232363 6.42237362 2.08930964\n",
      " 4.29987682 1.81682893 2.21756992 5.57656693 1.3457556  5.00737575\n",
      " 5.99740287 3.56637025 1.75063139 4.03330878 4.56644485 1.92499426\n",
      " 5.27394379 1.54021342 2.57634313 5.97139524 1.72462376 1.43796077]\n"
     ]
    }
   ],
   "source": [
    "import pandas as pd\n",
    "iris = pd.read_csv(\"IRIS.csv\")\n",
    "print(iris)\n",
    "import numpy as np\n",
    "\n",
    "x = iris[['SepalLengthCm', 'SepalWidthCm']]\n",
    "y = iris.PetalLengthCm\n",
    "\n",
    "from sklearn.model_selection import train_test_split\n",
    "x_train, x_test, y_train, y_test = train_test_split(x,y,test_size=0.2)\n",
    "\n",
    "from sklearn.linear_model import LinearRegression\n",
    "LR = LinearRegression()\n",
    "training = LR.fit(x_train, y_train)\n",
    "y_pred = LR.predict(x_test)\n",
    "print(y_pred)"
   ]
  },
  {
   "cell_type": "markdown",
   "id": "2f1ef698-65d8-45b5-aef3-f1c5c6210f99",
   "metadata": {},
   "source": [
    "# Exp-7 SLR & MLR with performance metrics"
   ]
  },
  {
   "cell_type": "code",
   "execution_count": 5,
   "id": "b14e752f-2e98-4c80-8d28-1d9f86c0716c",
   "metadata": {},
   "outputs": [
    {
     "name": "stdout",
     "output_type": "stream",
     "text": [
      "      Id  SepalLengthCm  SepalWidthCm  PetalLengthCm  PetalWidthCm  \\\n",
      "0      1            5.1           3.5            1.4           0.2   \n",
      "1      2            4.9           3.0            1.4           0.2   \n",
      "2      3            4.7           3.2            1.3           0.2   \n",
      "3      4            4.6           3.1            1.5           0.2   \n",
      "4      5            5.0           3.6            1.4           0.2   \n",
      "..   ...            ...           ...            ...           ...   \n",
      "145  146            6.7           3.0            5.2           2.3   \n",
      "146  147            6.3           2.5            5.0           1.9   \n",
      "147  148            6.5           3.0            5.2           2.0   \n",
      "148  149            6.2           3.4            5.4           2.3   \n",
      "149  150            5.9           3.0            5.1           1.8   \n",
      "\n",
      "            Species  \n",
      "0       Iris-setosa  \n",
      "1       Iris-setosa  \n",
      "2       Iris-setosa  \n",
      "3       Iris-setosa  \n",
      "4       Iris-setosa  \n",
      "..              ...  \n",
      "145  Iris-virginica  \n",
      "146  Iris-virginica  \n",
      "147  Iris-virginica  \n",
      "148  Iris-virginica  \n",
      "149  Iris-virginica  \n",
      "\n",
      "[150 rows x 6 columns]\n",
      "[1.86997438 4.74669022 3.39152923 5.46384591 5.00512955 1.66160431\n",
      " 2.1074256  1.46132728 1.79891701 7.67347531 2.13650675 5.48483403\n",
      " 5.18441847 6.00980573 6.0808631  4.95506029 5.21349962 4.9760484\n",
      " 4.13776607 1.66969735 1.92813668 5.31363814 4.13776607 3.03295138\n",
      " 2.31579568 1.51948957 2.78260508 4.11677796 1.46132728 2.56614197] \n",
      "\n",
      "Mean Absolute Error :  0.5582987067841859\n",
      "Mean Squared Error :  0.4881349990126381\n",
      "Root mean squared error :  0.6986665864435182\n"
     ]
    }
   ],
   "source": [
    "import pandas as pd\n",
    "iris = pd.read_csv(\"IRIS.csv\")\n",
    "print(iris)\n",
    "import numpy as np\n",
    "\n",
    "x = iris[['SepalLengthCm', 'SepalWidthCm']]\n",
    "y = iris.PetalLengthCm\n",
    "\n",
    "from sklearn.model_selection import train_test_split\n",
    "x_train, x_test, y_train, y_test = train_test_split(x,y,test_size=0.2)\n",
    "\n",
    "from sklearn.linear_model import LinearRegression\n",
    "LR = LinearRegression()\n",
    "training = LR.fit(x_train, y_train)\n",
    "y_pred = LR.predict(x_test)\n",
    "print(y_pred,\"\\n\")\n",
    "\n",
    "import numpy as np\n",
    "from sklearn import metrics\n",
    "MAE = metrics.mean_absolute_error(y_test, y_pred)\n",
    "print(\"Mean Absolute Error : \",MAE)\n",
    "\n",
    "MSE = metrics.mean_squared_error(y_test, y_pred)\n",
    "print(\"Mean Squared Error : \", MSE)\n",
    "\n",
    "RMSE = np.sqrt(metrics.mean_squared_error(y_test, y_pred))\n",
    "print(\"Root mean squared error : \", RMSE)"
   ]
  },
  {
   "cell_type": "markdown",
   "id": "f58be02f-271e-43e3-9b0f-9c98b6791cc5",
   "metadata": {},
   "source": [
    "# Evaluation metrics for regression"
   ]
  },
  {
   "cell_type": "code",
   "execution_count": 4,
   "id": "d7ef562a-e073-4f50-bfe5-3d605873ea41",
   "metadata": {},
   "outputs": [
    {
     "name": "stdout",
     "output_type": "stream",
     "text": [
      "[5.20282836 2.41670895 5.01708707 3.34541542 4.83134577 3.15967413\n",
      " 5.57431095 4.64560448 3.53115672 2.97393283 3.9026393  1.48800248\n",
      " 5.38856966 1.85948507 6.68875872 2.41670895 2.23096766 1.48800248\n",
      " 5.38856966 2.04522636 2.97393283 4.27412189 5.01708707 3.34541542\n",
      " 3.71689801 5.76005225 7.61746519 3.15967413 4.83134577 3.71689801] \n",
      "\n",
      "Mean Absolute Error :  0.6067066333272348\n",
      "Mean Squared Error :  0.5273693204531773\n",
      "Root Mean Squared Error :  0.7262019832341257\n"
     ]
    }
   ],
   "source": [
    "import numpy as np\n",
    "\n",
    "x = iris[['SepalLengthCm']]\n",
    "y = iris.PetalLengthCm\n",
    "\n",
    "from sklearn.model_selection import train_test_split\n",
    "x_train, x_test, y_train, y_test = train_test_split(x,y,test_size=0.2)\n",
    "\n",
    "from sklearn.linear_model import LinearRegression\n",
    "LR = LinearRegression()\n",
    "training = LR.fit(x_train, y_train)\n",
    "y_pred = LR.predict(x_test)\n",
    "print(y_pred,\"\\n\")\n",
    "\n",
    "import numpy as np\n",
    "from sklearn import metrics\n",
    "\n",
    "MAE = metrics.mean_absolute_error(y_test, y_pred)\n",
    "print(\"Mean Absolute Error : \", MAE)\n",
    "\n",
    "MSE = metrics.mean_squared_error(y_test, y_pred)\n",
    "print(\"Mean Squared Error : \", MSE)\n",
    "\n",
    "RMSE = np.sqrt(metrics.mean_squared_error(y_test, y_pred))\n",
    "print(\"Root Mean Squared Error : \")"
   ]
  },
  {
   "cell_type": "markdown",
   "id": "d937f8a2-b3b3-4349-941e-eae6204e7d92",
   "metadata": {},
   "source": [
    "# Exp:8 KNN"
   ]
  },
  {
   "cell_type": "code",
   "execution_count": 3,
   "id": "7ebc4dbd-29c0-44ec-9a3a-28277481bba2",
   "metadata": {},
   "outputs": [
    {
     "name": "stdout",
     "output_type": "stream",
     "text": [
      "[2 0 1 0 0 1 1 1 0 0 1 1 2 2 2 0 2 1 2 2 0 0 2 2 1 0 2 2 0 0]\n",
      "\n",
      "Accuracy :  0.9666666666666667\n",
      "Precision :  0.9583333333333334\n",
      "Recall :  0.9722222222222222\n",
      "F1-SCORE :  0.9632850241545894\n"
     ]
    }
   ],
   "source": [
    "from sklearn import datasets\n",
    "iris = datasets.load_iris()\n",
    "\n",
    "x = iris.data\n",
    "y = iris.target\n",
    "\n",
    "from sklearn.model_selection import train_test_split\n",
    "x_train, x_test, y_train, y_test = train_test_split(x,y,train_size=0.8)\n",
    "\n",
    "from sklearn.neighbors import KNeighborsClassifier\n",
    "knn = KNeighborsClassifier()\n",
    "\n",
    "train = knn.fit(x_train, y_train)\n",
    "y_pred = knn.predict(x_test)\n",
    "print(y_pred)\n",
    "#y_auc = knn.predict_proba(x_test)\n",
    "\n",
    "from sklearn.metrics import accuracy_score, precision_score, recall_score, f1_score, roc_auc_score\n",
    "Accuracy = accuracy_score(y_test, y_pred)\n",
    "Precision = precision_score(y_test, y_pred, average='macro')\n",
    "Recall = recall_score(y_test, y_pred, average='macro')\n",
    "f1 = f1_score(y_test, y_pred, average='macro')\n",
    "#auc = roc_auc_score(y_test, y_auc)\n",
    "\n",
    "print(\"\\nAccuracy : \", Accuracy)\n",
    "print(\"Precision : \", Precision)\n",
    "print(\"Recall : \", Recall)\n",
    "print(\"F1-SCORE : \", f1)\n",
    "print(\"AUC : \", auc)"
   ]
  },
  {
   "cell_type": "markdown",
   "id": "b1c2b91e-652c-4af9-b327-20fe88e832ce",
   "metadata": {},
   "source": [
    "# Exp:9 DECISION TREE"
   ]
  },
  {
   "cell_type": "code",
   "execution_count": 46,
   "id": "96cf9b55-ca40-4b7a-ac9d-c0911163d800",
   "metadata": {},
   "outputs": [
    {
     "name": "stdout",
     "output_type": "stream",
     "text": [
      "[0 0 1 2 1 1 1 2 2 2 1 0 2 2 2 1 0 0 1 2 1 2 0 0 2 2 0 0 2 1]\n",
      "\n",
      "Accuracy :  1.0\n",
      "Precision :  1.0\n",
      "Recall :  1.0\n",
      "F1-SCORE :  1.0\n",
      "AUC :  0.5251322751322752\n"
     ]
    }
   ],
   "source": [
    "from sklearn import datasets\n",
    "iris = datasets.load_iris()\n",
    "\n",
    "x = iris.data\n",
    "y = iris.target\n",
    "\n",
    "from sklearn.model_selection import train_test_split\n",
    "x_train, x_test, y_train, y_test = train_test_split(x,y,train_size=0.8)\n",
    "\n",
    "from sklearn.tree import DecisionTreeClassifier\n",
    "DT = DecisionTreeClassifier()\n",
    "\n",
    "train = DT.fit(x_train, y_train)\n",
    "y_pred = DT.predict(x_test)\n",
    "print(y_pred)\n",
    "auc = DT.predict_proba(x_test)\n",
    "\n",
    "from sklearn.metrics import accuracy_score, precision_score, recall_score, f1_score, roc_auc_score\n",
    "Accuracy = accuracy_score(y_test, y_pred)\n",
    "Precision = precision_score(y_test, y_pred, average='macro')\n",
    "Recall = recall_score(y_test, y_pred, average='macro')\n",
    "f1 = f1_score(y_test, y_pred, average='macro')\n",
    "auc = roc_auc_score(y_test, y_auc, multi_class='ovr')\n",
    "\n",
    "print(\"\\nAccuracy : \", Accuracy)\n",
    "print(\"Precision : \", Precision)\n",
    "print(\"Recall : \", Recall)\n",
    "print(\"F1-SCORE : \", f1)\n",
    "print(\"AUC : \", auc)"
   ]
  },
  {
   "cell_type": "markdown",
   "id": "30ea6630-c9a0-4c69-891a-2e5417e22196",
   "metadata": {},
   "source": [
    "# Exp:10 RANDOM FOREST"
   ]
  },
  {
   "cell_type": "code",
   "execution_count": 47,
   "id": "3192f47a-311b-44f6-a51b-28cb36cb2b23",
   "metadata": {},
   "outputs": [
    {
     "name": "stdout",
     "output_type": "stream",
     "text": [
      "[2 1 0 1 1 1 2 1 1 0 0 2 2 0 1 2 0 2 0 0 0 1 0 2 0 2 2 1 1 2]\n",
      "\n",
      "Accuracy :  0.9666666666666667\n",
      "Precision :  0.9666666666666667\n",
      "Recall :  0.9696969696969697\n",
      "F1-SCORE :  0.9665831244778613\n",
      "AUC :  0.9966414352379264\n"
     ]
    }
   ],
   "source": [
    "from sklearn import datasets\n",
    "iris = datasets.load_iris()\n",
    "\n",
    "x = iris.data\n",
    "y = iris.target\n",
    "\n",
    "from sklearn.model_selection import train_test_split\n",
    "x_train, x_test, y_train, y_test = train_test_split(x,y,train_size=0.8)\n",
    "\n",
    "from sklearn.ensemble import RandomForestClassifier\n",
    "RF = RandomForestClassifier()\n",
    "\n",
    "train = RF.fit(x_train, y_train)\n",
    "y_pred = RF.predict(x_test)\n",
    "print(y_pred)\n",
    "y_auc = RF.predict_proba(x_test)\n",
    "\n",
    "from sklearn.metrics import accuracy_score, precision_score, recall_score, f1_score, roc_auc_score\n",
    "Accuracy = accuracy_score(y_test, y_pred)\n",
    "Precision = precision_score(y_test, y_pred, average='macro')\n",
    "Recall = recall_score(y_test, y_pred, average='macro')\n",
    "f1 = f1_score(y_test, y_pred, average='macro')\n",
    "auc = roc_auc_score(y_test, y_auc, multi_class='ovr')\n",
    "\n",
    "print(\"\\nAccuracy : \", Accuracy)\n",
    "print(\"Precision : \", Precision)\n",
    "print(\"Recall : \", Recall)\n",
    "print(\"F1-SCORE : \", f1)\n",
    "print(\"AUC : \", auc)"
   ]
  },
  {
   "cell_type": "markdown",
   "id": "61f53bfc-8031-4f72-bf2c-7a78d03cb0ed",
   "metadata": {},
   "source": [
    "# Exp:11 SUPPORT VECTOR MACHINE"
   ]
  },
  {
   "cell_type": "code",
   "execution_count": 49,
   "id": "50da5f21-436b-492d-be70-b196431e1549",
   "metadata": {},
   "outputs": [
    {
     "name": "stdout",
     "output_type": "stream",
     "text": [
      "[2 0 2 0 1 1 2 2 0 2 1 0 1 0 2 0 1 1 1 2 2 1 1 2 2 0 2 1 1 0]\n",
      "\n",
      "Accuracy :  0.9666666666666667\n",
      "Precision :  0.9696969696969697\n",
      "Recall :  0.9722222222222222\n",
      "F1-SCORE :  0.9696342305037957\n",
      "AUC :  0.9967901234567901\n"
     ]
    }
   ],
   "source": [
    "from sklearn import datasets\n",
    "iris = datasets.load_iris()\n",
    "\n",
    "x = iris.data\n",
    "y = iris.target\n",
    "\n",
    "from sklearn.model_selection import train_test_split\n",
    "x_train, x_test, y_train, y_test = train_test_split(x,y,train_size=0.8)\n",
    "\n",
    "from sklearn import svm\n",
    "svc_cl = svm.SVC(probability = True)\n",
    "\n",
    "train = svc_cl.fit(x_train, y_train)\n",
    "y_pred = svc_cl.predict(x_test)\n",
    "print(y_pred)\n",
    "y_auc = svc_cl.predict_proba(x_test)\n",
    "\n",
    "from sklearn.metrics import accuracy_score, precision_score, recall_score, f1_score, roc_auc_score\n",
    "Accuracy = accuracy_score(y_test, y_pred)\n",
    "Precision = precision_score(y_test, y_pred, average='macro')\n",
    "Recall = recall_score(y_test, y_pred, average='macro')\n",
    "f1 = f1_score(y_test, y_pred, average='macro')\n",
    "auc = roc_auc_score(y_test, y_auc, multi_class='ovr')\n",
    "\n",
    "print(\"\\nAccuracy : \", Accuracy)\n",
    "print(\"Precision : \", Precision)\n",
    "print(\"Recall : \", Recall)\n",
    "print(\"F1-SCORE : \", f1)\n",
    "print(\"AUC : \", auc)"
   ]
  }
 ],
 "metadata": {
  "kernelspec": {
   "display_name": "Python [conda env:base] *",
   "language": "python",
   "name": "conda-base-py"
  },
  "language_info": {
   "codemirror_mode": {
    "name": "ipython",
    "version": 3
   },
   "file_extension": ".py",
   "mimetype": "text/x-python",
   "name": "python",
   "nbconvert_exporter": "python",
   "pygments_lexer": "ipython3",
   "version": "3.12.7"
  }
 },
 "nbformat": 4,
 "nbformat_minor": 5
}
