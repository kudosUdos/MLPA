{
 "cells": [
  {
   "cell_type": "code",
   "execution_count": 5,
   "id": "3ef59098-a060-471c-8d51-9b5901ab925f",
   "metadata": {},
   "outputs": [
    {
     "name": "stdout",
     "output_type": "stream",
     "text": [
      "Barack Obama went as a prime minister of USA in the year of 2015 . PM MODI is the prime minister of INDIA.\n"
     ]
    }
   ],
   "source": [
    "input = \"Barack Obama went as a prime minister of USA in the year of 2015 . PM MODI is the prime minister of INDIA.\"\n",
    "print(input)"
   ]
  },
  {
   "cell_type": "code",
   "execution_count": 1,
   "id": "863ecec2-c232-4c31-9bfa-b0991ba5e85e",
   "metadata": {},
   "outputs": [
    {
     "name": "stdout",
     "output_type": "stream",
     "text": [
      "LOWERCASE =  barack obama went as a prime minister of usa in the year of 2015 . pm modi is the prime minister of india.\n",
      "REGULAR EXP1 =  barack obama went as a prime minister of usa in the year of 2025 . pm modi is the prime minister of india.\n",
      "REGULAR EXP2 =  **r*** o**** w*nt *s * pr*** **n*st*r o* us* *n t** y**r o* 2015 . p* *o** *s t** pr*** **n*st*r o* *n***.\n",
      "REGULAR EXP3 =  barack obama went as a prime minister of usa in the year of ---- . pm modi is the prime minister of india.\n"
     ]
    }
   ],
   "source": [
    "#(1)lowercase\n",
    "input = \"Barack Obama went as a prime minister of USA in the year of 2015 . PM MODI is the prime minister of INDIA.\"\n",
    "lowercase = input.lower()\n",
    "print(\"LOWERCASE = \", lowercase)\n",
    "\n",
    "#re\n",
    "#pip install re\n",
    "import re\n",
    "lowercase_re = re.sub('2015', '2025', lowercase)\n",
    "print(\"REGULAR EXP1 = \", lowercase_re)\n",
    "lowercase_re = re.sub('[a-m]', '*', lowercase)\n",
    "print(\"REGULAR EXP2 = \", lowercase_re)\n",
    "lowercase_re = re.sub(r'\\d', '-', lowercase)\n",
    "print(\"REGULAR EXP3 = \", lowercase_re)"
   ]
  },
  {
   "cell_type": "code",
   "execution_count": 8,
   "id": "358ecfe8-3fcf-4ba1-929b-f04ae60d751a",
   "metadata": {},
   "outputs": [
    {
     "name": "stdout",
     "output_type": "stream",
     "text": [
      "WORD TOKENS =  ['Barack', 'Obama', 'went', 'as', 'a', 'prime', 'minister', 'of', 'USA', 'in', 'the', 'year', 'of', '2015', '.', 'PM', 'MODI', 'is', 'the', 'prime', 'minister', 'of', 'INDIA', '.']\n",
      "24\n",
      "SENT TOKENS =  ['Barack Obama went as a prime minister of USA in the year of 2015 .', 'PM MODI is the prime minister of INDIA.']\n",
      "2\n"
     ]
    }
   ],
   "source": [
    "#(2)Tokenization\n",
    "import nltk\n",
    "from nltk import word_tokenize, sent_tokenize\n",
    "\n",
    "word_tokens = word_tokenize(input)\n",
    "print(\"WORD TOKENS = \", word_tokens)\n",
    "print(len(word_tokens))\n",
    "sent_tokens = sent_tokenize(input)\n",
    "print(\"SENT TOKENS = \", sent_tokens)\n",
    "print(len(sent_tokens))"
   ]
  },
  {
   "cell_type": "code",
   "execution_count": 9,
   "id": "60ebc26f-5b8f-41db-9cd5-ac55f4c7be02",
   "metadata": {},
   "outputs": [
    {
     "name": "stdout",
     "output_type": "stream",
     "text": [
      "Barack Obama went prime minister USA year 2015 . PM MODI prime minister INDIA .\n"
     ]
    }
   ],
   "source": [
    "#(3)stopwords Removal\n",
    "from nltk.corpus import stopwords\n",
    "#print(stopwords.fileids())\n",
    "stopwords = set(stopwords.words('english'))\n",
    "#print(\"\\n\", stopwords)\n",
    "\n",
    "tokens_stopwords = []\n",
    "for token in word_tokens:\n",
    "    if token not in stopwords:\n",
    "        tokens_stopwords.append(token)\n",
    "print(' '.join(tokens_stopwords))"
   ]
  }
 ],
 "metadata": {
  "kernelspec": {
   "display_name": "Python 3",
   "language": "python",
   "name": "python3"
  },
  "language_info": {
   "codemirror_mode": {
    "name": "ipython",
    "version": 3
   },
   "file_extension": ".py",
   "mimetype": "text/x-python",
   "name": "python",
   "nbconvert_exporter": "python",
   "pygments_lexer": "ipython3",
   "version": "3.13.5"
  }
 },
 "nbformat": 4,
 "nbformat_minor": 5
}
