{
 "cells": [
  {
   "cell_type": "markdown",
   "id": "9b2a43b4-1807-48b6-b198-db0c0d10c918",
   "metadata": {},
   "source": [
    "# Data Cleaning"
   ]
  },
  {
   "cell_type": "code",
   "execution_count": 40,
   "id": "1235a1ce-d798-4a6d-9490-febdb2fd0787",
   "metadata": {},
   "outputs": [],
   "source": [
    "#Importing necessary libraries\n",
    "\n",
    "import pandas as pd\n",
    "import numpy as np\n",
    "import matplotlib.pyplot as plt\n",
    "import seaborn as sns"
   ]
  },
  {
   "cell_type": "code",
   "execution_count": 41,
   "id": "db83b6c8-1bdf-467a-b72a-da637ce8fbf7",
   "metadata": {},
   "outputs": [],
   "source": [
    "#Load the datadset\n",
    "\n",
    "df = pd.read_csv(r'IRIS.csv')"
   ]
  },
  {
   "cell_type": "code",
   "execution_count": 42,
   "id": "b57da80c-3dd2-4a1c-ae01-1fd57e48d9da",
   "metadata": {},
   "outputs": [
    {
     "name": "stdout",
     "output_type": "stream",
     "text": [
      "<class 'pandas.core.frame.DataFrame'>\n",
      "RangeIndex: 150 entries, 0 to 149\n",
      "Data columns (total 6 columns):\n",
      " #   Column         Non-Null Count  Dtype  \n",
      "---  ------         --------------  -----  \n",
      " 0   Id             150 non-null    int64  \n",
      " 1   SepalLengthCm  150 non-null    float64\n",
      " 2   SepalWidthCm   150 non-null    float64\n",
      " 3   PetalLengthCm  150 non-null    float64\n",
      " 4   PetalWidthCm   150 non-null    float64\n",
      " 5   Species        150 non-null    object \n",
      "dtypes: float64(4), int64(1), object(1)\n",
      "memory usage: 7.2+ KB\n"
     ]
    }
   ],
   "source": [
    "#Initial Data Exploration\n",
    "\n",
    "df.head(10)\n",
    "df.info()"
   ]
  },
  {
   "cell_type": "code",
   "execution_count": 43,
   "id": "0480d142-b914-4031-9c46-ed1a05cbe420",
   "metadata": {},
   "outputs": [
    {
     "name": "stdout",
     "output_type": "stream",
     "text": [
      "['Id', 'SepalLengthCm', 'SepalWidthCm', 'PetalLengthCm', 'PetalWidthCm', 'Species']\n"
     ]
    }
   ],
   "source": [
    "print(df.columns.tolist())"
   ]
  },
  {
   "cell_type": "code",
   "execution_count": 44,
   "id": "9a02bd01-c133-4f9a-82f3-af288cf4b989",
   "metadata": {},
   "outputs": [
    {
     "name": "stdout",
     "output_type": "stream",
     "text": [
      "Id               0\n",
      "PetalLengthCm    0\n",
      "PetalWidthCm     0\n",
      "Species          0\n",
      "dtype: int64\n"
     ]
    },
    {
     "name": "stderr",
     "output_type": "stream",
     "text": [
      "C:\\Users\\chetn\\AppData\\Local\\Temp\\ipykernel_19784\\1238563208.py:5: FutureWarning: A value is trying to be set on a copy of a DataFrame or Series through chained assignment using an inplace method.\n",
      "The behavior will change in pandas 3.0. This inplace method will never work because the intermediate object on which we are setting values always behaves as a copy.\n",
      "\n",
      "For example, when doing 'df[col].method(value, inplace=True)', try using 'df.method({col: value}, inplace=True)' or df[col] = df[col].method(value) instead, to perform the operation inplace on the original object.\n",
      "\n",
      "\n",
      "  df['Id'].fillna(df['Id'].median(), inplace=True)\n",
      "C:\\Users\\chetn\\AppData\\Local\\Temp\\ipykernel_19784\\1238563208.py:8: FutureWarning: A value is trying to be set on a copy of a DataFrame or Series through chained assignment using an inplace method.\n",
      "The behavior will change in pandas 3.0. This inplace method will never work because the intermediate object on which we are setting values always behaves as a copy.\n",
      "\n",
      "For example, when doing 'df[col].method(value, inplace=True)', try using 'df.method({col: value}, inplace=True)' or df[col] = df[col].method(value) instead, to perform the operation inplace on the original object.\n",
      "\n",
      "\n",
      "  df[col].fillna(df[col].mode()[0], inplace=True)\n"
     ]
    }
   ],
   "source": [
    "#Data Cleaning \n",
    "\n",
    "#Missing values Handling\n",
    "df.drop(columns=['SepalLengthCm', 'SepalWidthCm'], inplace=True)\n",
    "df['Id'].fillna(df['Id'].median(), inplace=True)\n",
    "categorical_cols=df.select_dtypes(include='object').columns\n",
    "for col in categorical_cols:\n",
    "    df[col].fillna(df[col].mode()[0], inplace=True)\n",
    "print(df.isnull().sum())"
   ]
  },
  {
   "cell_type": "code",
   "execution_count": 33,
   "id": "208063d0-04f3-4410-bb69-8fe0a323ae1b",
   "metadata": {},
   "outputs": [
    {
     "name": "stdout",
     "output_type": "stream",
     "text": [
      "Number of duplicate rows: 0\n",
      "Data shape after removing duplicates: (150, 2)\n"
     ]
    }
   ],
   "source": [
    "#Handling Duplicate Values\n",
    "\n",
    "duplicate_count=df.duplicated().sum()\n",
    "printf(f\"Number of duplicate rows: {duplicate_count}\")\n",
    "df.drop_duplicate(inplace=True)\n",
    "print(f\"Data shape after removing duplicates: {df.shape}\")"
   ]
  },
  {
   "cell_type": "code",
   "execution_count": 29,
   "id": "6ea0b69f-dea8-4784-b35b-7b7970bfd7f3",
   "metadata": {},
   "outputs": [
    {
     "name": "stdout",
     "output_type": "stream",
     "text": [
      "Null values before dropping:\n",
      " Id         0\n",
      "Species    0\n",
      "dtype: int64\n",
      "Shape after dropping nulls: (150, 2)\n",
      "Null values after dropping:\n",
      " Id         0\n",
      "Species    0\n",
      "dtype: int64\n"
     ]
    }
   ],
   "source": [
    "#Handling the null values\n",
    "print(\"Null values before dropping:\\n\",df.isnull().sum())\n",
    "df.dropna(inplace=True)\n",
    "print(f\"Shape after dropping nulls: {df.shape}\")\n",
    "print(\"Null values after dropping:\\n\", df.isnull().sum())"
   ]
  },
  {
   "cell_type": "code",
   "execution_count": 30,
   "id": "2f983f94-b494-49a7-b905-c608aa90295e",
   "metadata": {},
   "outputs": [
    {
     "name": "stdout",
     "output_type": "stream",
     "text": [
      "Data shape after removing outliers: (150, 2)\n"
     ]
    }
   ],
   "source": [
    "#Handling the outlier\n",
    "\n",
    "Q1=df['Id'].quantile(0.25)\n",
    "Q3=df['Id'].quantile(0.75)\n",
    "IQR=Q3-Q1\n",
    "lower_bound=Q1-1.5*IQR\n",
    "upper_bound=Q3+1.5*IQR\n",
    "df=df[(df['Id']>=lower_bound)&(df['Id']<=upper_bound)]\n",
    "print(f\"Data shape after removing outliers: {df.shape}\")"
   ]
  }
 ],
 "metadata": {
  "kernelspec": {
   "display_name": "Python [conda env:base] *",
   "language": "python",
   "name": "conda-base-py"
  },
  "language_info": {
   "codemirror_mode": {
    "name": "ipython",
    "version": 3
   },
   "file_extension": ".py",
   "mimetype": "text/x-python",
   "name": "python",
   "nbconvert_exporter": "python",
   "pygments_lexer": "ipython3",
   "version": "3.12.7"
  }
 },
 "nbformat": 4,
 "nbformat_minor": 5
}
